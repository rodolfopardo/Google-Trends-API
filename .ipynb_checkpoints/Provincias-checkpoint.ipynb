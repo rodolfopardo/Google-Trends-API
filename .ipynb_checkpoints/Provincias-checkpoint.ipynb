{
 "cells": [
  {
   "cell_type": "code",
   "execution_count": 1,
   "metadata": {},
   "outputs": [
    {
     "name": "stdout",
     "output_type": "stream",
     "text": [
      "Requirement already satisfied: pytrends in c:\\users\\rpardo\\appdata\\local\\continuum\\anaconda3\\lib\\site-packages (4.7.2)\n",
      "Requirement already satisfied: lxml in c:\\users\\rpardo\\appdata\\local\\continuum\\anaconda3\\lib\\site-packages (from pytrends) (4.4.1)\n",
      "Requirement already satisfied: pandas in c:\\users\\rpardo\\appdata\\local\\continuum\\anaconda3\\lib\\site-packages (from pytrends) (0.25.1)\n",
      "Requirement already satisfied: requests in c:\\users\\rpardo\\appdata\\local\\continuum\\anaconda3\\lib\\site-packages (from pytrends) (2.22.0)\n",
      "Requirement already satisfied: pytz>=2017.2 in c:\\users\\rpardo\\appdata\\local\\continuum\\anaconda3\\lib\\site-packages (from pandas->pytrends) (2019.3)\n",
      "Requirement already satisfied: numpy>=1.13.3 in c:\\users\\rpardo\\appdata\\local\\continuum\\anaconda3\\lib\\site-packages (from pandas->pytrends) (1.16.5)\n",
      "Requirement already satisfied: python-dateutil>=2.6.1 in c:\\users\\rpardo\\appdata\\local\\continuum\\anaconda3\\lib\\site-packages (from pandas->pytrends) (2.8.0)\n",
      "Requirement already satisfied: certifi>=2017.4.17 in c:\\users\\rpardo\\appdata\\local\\continuum\\anaconda3\\lib\\site-packages (from requests->pytrends) (2019.9.11)\n",
      "Requirement already satisfied: chardet<3.1.0,>=3.0.2 in c:\\users\\rpardo\\appdata\\local\\continuum\\anaconda3\\lib\\site-packages (from requests->pytrends) (3.0.4)\n",
      "Requirement already satisfied: idna<2.9,>=2.5 in c:\\users\\rpardo\\appdata\\local\\continuum\\anaconda3\\lib\\site-packages (from requests->pytrends) (2.8)\n",
      "Requirement already satisfied: urllib3!=1.25.0,!=1.25.1,<1.26,>=1.21.1 in c:\\users\\rpardo\\appdata\\local\\continuum\\anaconda3\\lib\\site-packages (from requests->pytrends) (1.24.2)\n",
      "Requirement already satisfied: six>=1.5 in c:\\users\\rpardo\\appdata\\local\\continuum\\anaconda3\\lib\\site-packages (from python-dateutil>=2.6.1->pandas->pytrends) (1.12.0)\n"
     ]
    }
   ],
   "source": [
    "#Importando libreria\n",
    "\n",
    "import sys \n",
    "!{sys.executable} -m pip install pytrends"
   ]
  },
  {
   "cell_type": "code",
   "execution_count": 2,
   "metadata": {},
   "outputs": [],
   "source": [
    "#Estableciendo conexion \n",
    "\n",
    "from pytrends.request import TrendReq\n",
    "import pandas as pd\n",
    "import numpy as np\n",
    "import matplotlib.pyplot as plt\n",
    "import seaborn as sns\n",
    "from pandas.io.json import json_normalize\n",
    "\n",
    "sns.set(rc={'figure.figsize':(11.7,8.27)})\n"
   ]
  },
  {
   "cell_type": "code",
   "execution_count": 3,
   "metadata": {},
   "outputs": [],
   "source": [
    "pytrend=TrendReq()"
   ]
  },
  {
   "cell_type": "code",
   "execution_count": 10,
   "metadata": {},
   "outputs": [],
   "source": [
    "#Keywords provincias\n",
    "\n",
    "user_kw_list =['Infobae', 'La Nacion', 'Clarin']\n",
    "user_cat = 0 \n",
    "user_timeframe = 'today 5-y' \n",
    "user_geo = 'AR'"
   ]
  },
  {
   "cell_type": "code",
   "execution_count": 11,
   "metadata": {},
   "outputs": [
    {
     "ename": "ResponseError",
     "evalue": "The request failed: Google returned a response with code 400.",
     "output_type": "error",
     "traceback": [
      "\u001b[1;31m---------------------------------------------------------------------------\u001b[0m",
      "\u001b[1;31mResponseError\u001b[0m                             Traceback (most recent call last)",
      "\u001b[1;32m<ipython-input-11-252931fc7b60>\u001b[0m in \u001b[0;36m<module>\u001b[1;34m\u001b[0m\n\u001b[1;32m----> 1\u001b[1;33m \u001b[0mpytrend\u001b[0m\u001b[1;33m.\u001b[0m\u001b[0mbuild_payload\u001b[0m\u001b[1;33m(\u001b[0m\u001b[0mkw_list\u001b[0m\u001b[1;33m=\u001b[0m\u001b[0muser_kw_list\u001b[0m\u001b[1;33m,\u001b[0m \u001b[0mcat\u001b[0m\u001b[1;33m=\u001b[0m\u001b[0muser_cat\u001b[0m\u001b[1;33m,\u001b[0m \u001b[0mtimeframe\u001b[0m\u001b[1;33m=\u001b[0m\u001b[0muser_timeframe\u001b[0m\u001b[1;33m,\u001b[0m \u001b[0mgeo\u001b[0m\u001b[1;33m=\u001b[0m\u001b[0muser_geo\u001b[0m\u001b[1;33m)\u001b[0m\u001b[1;33m\u001b[0m\u001b[1;33m\u001b[0m\u001b[0m\n\u001b[0m",
      "\u001b[1;32m~\\AppData\\Local\\Continuum\\anaconda3\\lib\\site-packages\\pytrends\\request.py\u001b[0m in \u001b[0;36mbuild_payload\u001b[1;34m(self, kw_list, cat, timeframe, geo, gprop)\u001b[0m\n\u001b[0;32m    165\u001b[0m         \u001b[0mself\u001b[0m\u001b[1;33m.\u001b[0m\u001b[0mtoken_payload\u001b[0m\u001b[1;33m[\u001b[0m\u001b[1;34m'req'\u001b[0m\u001b[1;33m]\u001b[0m \u001b[1;33m=\u001b[0m \u001b[0mjson\u001b[0m\u001b[1;33m.\u001b[0m\u001b[0mdumps\u001b[0m\u001b[1;33m(\u001b[0m\u001b[0mself\u001b[0m\u001b[1;33m.\u001b[0m\u001b[0mtoken_payload\u001b[0m\u001b[1;33m[\u001b[0m\u001b[1;34m'req'\u001b[0m\u001b[1;33m]\u001b[0m\u001b[1;33m)\u001b[0m\u001b[1;33m\u001b[0m\u001b[1;33m\u001b[0m\u001b[0m\n\u001b[0;32m    166\u001b[0m         \u001b[1;31m# get tokens\u001b[0m\u001b[1;33m\u001b[0m\u001b[1;33m\u001b[0m\u001b[1;33m\u001b[0m\u001b[0m\n\u001b[1;32m--> 167\u001b[1;33m         \u001b[0mself\u001b[0m\u001b[1;33m.\u001b[0m\u001b[0m_tokens\u001b[0m\u001b[1;33m(\u001b[0m\u001b[1;33m)\u001b[0m\u001b[1;33m\u001b[0m\u001b[1;33m\u001b[0m\u001b[0m\n\u001b[0m\u001b[0;32m    168\u001b[0m         \u001b[1;32mreturn\u001b[0m\u001b[1;33m\u001b[0m\u001b[1;33m\u001b[0m\u001b[0m\n\u001b[0;32m    169\u001b[0m \u001b[1;33m\u001b[0m\u001b[0m\n",
      "\u001b[1;32m~\\AppData\\Local\\Continuum\\anaconda3\\lib\\site-packages\\pytrends\\request.py\u001b[0m in \u001b[0;36m_tokens\u001b[1;34m(self)\u001b[0m\n\u001b[0;32m    175\u001b[0m             \u001b[0mmethod\u001b[0m\u001b[1;33m=\u001b[0m\u001b[0mTrendReq\u001b[0m\u001b[1;33m.\u001b[0m\u001b[0mGET_METHOD\u001b[0m\u001b[1;33m,\u001b[0m\u001b[1;33m\u001b[0m\u001b[1;33m\u001b[0m\u001b[0m\n\u001b[0;32m    176\u001b[0m             \u001b[0mparams\u001b[0m\u001b[1;33m=\u001b[0m\u001b[0mself\u001b[0m\u001b[1;33m.\u001b[0m\u001b[0mtoken_payload\u001b[0m\u001b[1;33m,\u001b[0m\u001b[1;33m\u001b[0m\u001b[1;33m\u001b[0m\u001b[0m\n\u001b[1;32m--> 177\u001b[1;33m             \u001b[0mtrim_chars\u001b[0m\u001b[1;33m=\u001b[0m\u001b[1;36m4\u001b[0m\u001b[1;33m,\u001b[0m\u001b[1;33m\u001b[0m\u001b[1;33m\u001b[0m\u001b[0m\n\u001b[0m\u001b[0;32m    178\u001b[0m         )['widgets']\n\u001b[0;32m    179\u001b[0m         \u001b[1;31m# order of the json matters...\u001b[0m\u001b[1;33m\u001b[0m\u001b[1;33m\u001b[0m\u001b[1;33m\u001b[0m\u001b[0m\n",
      "\u001b[1;32m~\\AppData\\Local\\Continuum\\anaconda3\\lib\\site-packages\\pytrends\\request.py\u001b[0m in \u001b[0;36m_get_data\u001b[1;34m(self, url, method, trim_chars, **kwargs)\u001b[0m\n\u001b[0;32m    144\u001b[0m                 \u001b[1;34m'The request failed: Google returned a '\u001b[0m\u001b[1;33m\u001b[0m\u001b[1;33m\u001b[0m\u001b[0m\n\u001b[0;32m    145\u001b[0m                 \u001b[1;34m'response with code {0}.'\u001b[0m\u001b[1;33m.\u001b[0m\u001b[0mformat\u001b[0m\u001b[1;33m(\u001b[0m\u001b[0mresponse\u001b[0m\u001b[1;33m.\u001b[0m\u001b[0mstatus_code\u001b[0m\u001b[1;33m)\u001b[0m\u001b[1;33m,\u001b[0m\u001b[1;33m\u001b[0m\u001b[1;33m\u001b[0m\u001b[0m\n\u001b[1;32m--> 146\u001b[1;33m                 response=response)\n\u001b[0m\u001b[0;32m    147\u001b[0m \u001b[1;33m\u001b[0m\u001b[0m\n\u001b[0;32m    148\u001b[0m     def build_payload(self, kw_list, cat=0, timeframe='today 5-y', geo='',\n",
      "\u001b[1;31mResponseError\u001b[0m: The request failed: Google returned a response with code 400."
     ]
    }
   ],
   "source": [
    "pytrend.build_payload(kw_list=user_kw_list, cat=user_cat, timeframe=user_timeframe, geo=user_geo)"
   ]
  },
  {
   "cell_type": "code",
   "execution_count": 8,
   "metadata": {},
   "outputs": [
    {
     "name": "stdout",
     "output_type": "stream",
     "text": [
      "            Infobae  La Nacion  Clarin isPartial\n",
      "date                                            \n",
      "2015-02-22       63         50      77     False\n",
      "2015-03-01       62         48      75     False\n",
      "2015-03-08       65         48      76     False\n",
      "2015-03-15       64         49      78     False\n",
      "2015-03-22       60         47      76     False\n"
     ]
    }
   ],
   "source": [
    "interest_over_time_df = pytrend.interest_over_time()\n",
    "print(interest_over_time_df.head())"
   ]
  },
  {
   "cell_type": "code",
   "execution_count": 9,
   "metadata": {},
   "outputs": [
    {
     "data": {
      "image/png": "[encoded data removed]",
      "text/plain": [
       "<Figure size 432x288 with 1 Axes>"
      ]
     },
     "metadata": {
      "needs_background": "light"
     },
     "output_type": "display_data"
    }
   ],
   "source": [
    "interest_over_time_df.plot()\n",
    "plt.title('Busquedas por Provincia en los últimos 5 años', fontsize = 20)\n",
    "plt.xlabel('Años', fontsize = 15)\n",
    "plt.ylabel('Cantidad', fontsize = 15)\n",
    "plt.show()"
   ]
  },
  {
   "cell_type": "code",
   "execution_count": 119,
   "metadata": {},
   "outputs": [
    {
     "name": "stdout",
     "output_type": "stream",
     "text": [
      "The average interest is  Mendoza         41.130268\n",
      "Cordoba         73.685824\n",
      "Buenos Aires    70.812261\n",
      "Rosario         62.601533\n",
      "Tucuman         36.421456\n",
      "dtype: float64\n"
     ]
    }
   ],
   "source": [
    "avg_kw = interest_over_time_df.mean(0)\n",
    "print(f\"The average interest is \", avg_kw)"
   ]
  },
  {
   "cell_type": "code",
   "execution_count": 121,
   "metadata": {},
   "outputs": [
    {
     "name": "stdout",
     "output_type": "stream",
     "text": [
      "geoName\n",
      "Tucumán                            95\n",
      "Salta Province                     34\n",
      "Santiago del Estero Province       33\n",
      "Catamarca Province                 33\n",
      "Jujuy                              29\n",
      "La Rioja Province                  11\n",
      "Tierra del Fuego Province           9\n",
      "Chaco Province                      9\n",
      "Autonomous City of Buenos Aires     8\n",
      "Corrientes Province                 8\n",
      "Santa Cruz Province                 7\n",
      "Formosa Province                    7\n",
      "Misiones Province                   6\n",
      "Neuquen                             6\n",
      "Chubut Province                     6\n",
      "Río Negro                           6\n",
      "San Juan Province                   5\n",
      "Entre Rios                          4\n",
      "Buenos Aires Province               4\n",
      "La Pampa Province                   3\n",
      "San Luis Province                   3\n",
      "Cordoba                             2\n",
      "Santa Fe Province                   1\n",
      "Mendoza Province                    0\n",
      "Name: Tucuman, dtype: int32\n"
     ]
    }
   ],
   "source": [
    "interest_by_region_df = pytrend.interest_by_region()\n",
    "#print(interest_by_region_df.head())\n",
    "\n",
    "interest_by_region_df\n",
    "print(interest_by_region_df['Tucuman'].sort_values(ascending = False))"
   ]
  },
  {
   "cell_type": "code",
   "execution_count": 122,
   "metadata": {},
   "outputs": [],
   "source": [
    "related_queries_dict = pytrend.related_queries()\n",
    "\n"
   ]
  },
  {
   "cell_type": "code",
   "execution_count": 123,
   "metadata": {},
   "outputs": [
    {
     "name": "stdout",
     "output_type": "stream",
     "text": [
      "{'Mendoza': {'top':                         query  value\n",
      "0            quiniela mendoza    100\n",
      "1         quiniela de mendoza     89\n",
      "2              diario mendoza     74\n",
      "3          san rafael mendoza     61\n",
      "4              tiempo mendoza     49\n",
      "5               clima mendoza     42\n",
      "6                 uno mendoza     40\n",
      "7               hotel mendoza     38\n",
      "8          pronostico mendoza     37\n",
      "9          diario uno mendoza     34\n",
      "10          tiempo en mendoza     34\n",
      "11   diario los andes mendoza     32\n",
      "12           diario los andes     32\n",
      "13         san martin mendoza     30\n",
      "14          diario de mendoza     29\n",
      "15           clima en mendoza     21\n",
      "16               mendoza post     21\n",
      "17                olx mendoza     21\n",
      "18               mapa mendoza     20\n",
      "19                        mdz     18\n",
      "20  quiniela mendoza nocturna     17\n",
      "21                     el sol     16\n",
      "22        temperatura mendoza     15\n",
      "23          ciudad de mendoza     14\n",
      "24         guaymallen mendoza     14, 'rising':                                                query  value\n",
      "0                            elecciones mendoza 2019  14550\n",
      "1                                diario mendoza post   9050\n",
      "2           padron electoral 2019 mendoza donde voto   5250\n",
      "3                                       mendoza post   4000\n",
      "4                       mendotran mendoza recorridos   3650\n",
      "5                              saldo red bus mendoza   2550\n",
      "6                            elecciones 2015 mendoza   1500\n",
      "7                                    locanto mendoza   1350\n",
      "8                                 mi red bus mendoza   1200\n",
      "9                                    tadicor mendoza   1000\n",
      "10       quiniela de mendoza vivi tu suerte con enzo   1000\n",
      "11                          quiniela de mendoza enzo    800\n",
      "12                                      coto mendoza    650\n",
      "13                                   red bus mendoza    600\n",
      "14                  contingencias climáticas mendoza    550\n",
      "15  quiniela de mendoza vespertina de hoy resultados    550\n",
      "16                                     mayra mendoza    400\n",
      "17                    quiniela de mendoza y nacional    350\n",
      "18                       quiniela mendoza y nacional    350\n",
      "19                     zimbra poder judicial mendoza    350\n",
      "20                  quiniela de mendoza de hoy tarde    300\n",
      "21                        quiniela de mendoza de hoy    250\n",
      "22                                donde voto mendoza    250\n",
      "23                                pronóstico mendoza    250\n",
      "24                  pronóstico del tiempo en mendoza    200}, 'Cordoba': {'top':                            query  value\n",
      "0                cordoba capital    100\n",
      "1               quiniela cordoba     96\n",
      "2              cordoba argentina     87\n",
      "3            quiniela de cordoba     76\n",
      "4                  clima cordoba     59\n",
      "5                 tiempo cordoba     49\n",
      "6             pronostico cordoba     47\n",
      "7                  cordoba vende     41\n",
      "8              tiempo en cordoba     35\n",
      "9          municipalidad cordoba     34\n",
      "10                rentas cordoba     33\n",
      "11      municipalidad de cordoba     32\n",
      "12                 banco cordoba     31\n",
      "13               loteria cordoba     30\n",
      "14            loteria de cordoba     30\n",
      "15                  mapa cordoba     26\n",
      "16              clima en cordoba     21\n",
      "17              banco de cordoba     17\n",
      "18           temperatura cordoba     16\n",
      "19           gobierno de cordoba     16\n",
      "20               mapa de cordoba     15\n",
      "21               central cordoba     15\n",
      "22  pronostico extendido cordoba     15\n",
      "23                   olx cordoba     14\n",
      "24                  cidi cordoba      3, 'rising':                                        query  value\n",
      "0                            aerobus cordoba   3800\n",
      "1                  ciudadano digital cordoba   3250\n",
      "2   padron electoral cordoba 2019 donde voto   2900\n",
      "3                         pedidos ya cordoba   2050\n",
      "4                            locanto cordoba   2000\n",
      "5                               cidi cordoba   1800\n",
      "6                  justicia cordoba extranet   1650\n",
      "7                   river vs central cordoba   1450\n",
      "8                     clima cordoba por hora    650\n",
      "9                               ersa cordoba    600\n",
      "10                        pronóstico cordoba    300\n",
      "11   servicio meteorológico nacional cordoba    300\n",
      "12                           booking cordoba    300\n",
      "13                               olx cordoba    200\n",
      "14                         cordoba nutricion    200\n",
      "15                       accuweather cordoba    170\n",
      "16                       temperatura cordoba    160\n",
      "17                             clima cordoba    150\n",
      "18                        donde voto cordoba    150\n",
      "19                          andreani cordoba    140\n",
      "20                     clima cordoba capital    140\n",
      "21        loteria de cordoba nocturna de hoy    130\n",
      "22                         tiempo en cordoba    120\n",
      "23                            tiempo cordoba     90\n",
      "24                          quiniela cordoba     70}, 'Buenos Aires': {'top':                                             query  value\n",
      "0                          buenos aires provincia    100\n",
      "1                       provincia de buenos aires     93\n",
      "2                              buenos aires clima     44\n",
      "3                             tiempo buenos aires     43\n",
      "4                             buenos aires ciudad     38\n",
      "5                          ciudad de buenos aires     34\n",
      "6                               mapa buenos aires     31\n",
      "7                          tiempo en buenos aires     30\n",
      "8                         pronostico buenos aires     28\n",
      "9                              hotel buenos aires     25\n",
      "10                           mapa de buenos aires     19\n",
      "11                         el tiempo buenos aires     18\n",
      "12                          clima en buenos aires     18\n",
      "13                      el tiempo en buenos aires     16\n",
      "14                        capital de buenos aires     11\n",
      "15                              buenos aires 2018     11\n",
      "16                           buenos aires weather     10\n",
      "17                       temperatura buenos aires     10\n",
      "18              pronostico buenos aires extendido      9\n",
      "19                   banco provincia buenos aires      9\n",
      "20                              maps buenos aires      8\n",
      "21                          vuelos a buenos aires      8\n",
      "22                              gran buenos aires      8\n",
      "23                        pronóstico buenos aires      4\n",
      "24  padron electoral 2019 donde voto buenos aires      2, 'rising':                                                 query  value\n",
      "0       padron electoral 2019 donde voto buenos aires  26550\n",
      "1                                   buenos aires 2018  16550\n",
      "2               padrones 2019 donde voto buenos aires   5750\n",
      "3            el tiempo en mar del plata, buenos aires   3850\n",
      "4                        donde voto buenos aires 2015   3550\n",
      "5                          buenos aires desde adentro   3400\n",
      "6          padron.gob.ar 2019 donde voto buenos aires   2750\n",
      "7                                 airbnb buenos aires    850\n",
      "8   quiniela de hoy nacional y provincia buenos aires    800\n",
      "9       quiniela nacional y provincia de buenos aires    450\n",
      "10                     free walking tour buenos aires    350\n",
      "11                               buenos aires celebra    200\n",
      "12                                 buenos aires arena    200\n",
      "13                                   ctp buenos aires    200\n",
      "14                           clima merlo buenos aires    200\n",
      "15                centro de convenciones buenos aires    180\n",
      "16          banco de la provincia de buenos aires bip    170\n",
      "17                      vuelos baratos a buenos aires    170\n",
      "18                                   vtv buenos aires    150\n",
      "19                            pronóstico buenos aires    150\n",
      "20                                   atp buenos aires    140\n",
      "21                        clima buenos aires por hora    140\n",
      "22                              vuelos a buenos aires    130\n",
      "23                               booking buenos aires    130\n",
      "24                             el tiempo buenos aires     80}, 'Rosario': {'top':                         query  value\n",
      "0             rosario central    100\n",
      "1            rosario santa fe     92\n",
      "2               rosario clima     91\n",
      "3              rosario garage     87\n",
      "4          la capital rosario     82\n",
      "5              tiempo rosario     67\n",
      "6          pronostico rosario     65\n",
      "7           rosario argentina     50\n",
      "8           tiempo en rosario     40\n",
      "9       la capital de rosario     31\n",
      "10  diario la capital rosario     28\n",
      "11              hotel rosario     26\n",
      "12                olx rosario     25\n",
      "13           alquiler rosario     24\n",
      "14           windguru rosario     24\n",
      "15           showcase rosario     23\n",
      "16           clima en rosario     22\n",
      "17          cartelera rosario     20\n",
      "18               cine rosario     19\n",
      "19               mapa rosario     19\n",
      "20           terminal rosario     18\n",
      "21              dolar rosario     17\n",
      "22   municipalidad de rosario     17\n",
      "23       boca rosario central     12\n",
      "24         pronóstico rosario      9, 'rising':                                       query  value\n",
      "0                            skokka rosario   4400\n",
      "1        river plate contra rosario central   4050\n",
      "2             club atlético rosario central   3350\n",
      "3          rosario central vs. boca juniors   3300\n",
      "4       rosario central contra boca juniors   2700\n",
      "5           river plate vs. rosario central   2650\n",
      "6         independiente vs. rosario central   2000\n",
      "7        precio soja rosario disponible hoy   1900\n",
      "8                        pedidos ya rosario   1650\n",
      "9                             hoyts rosario   1650\n",
      "10                            latam rosario   1550\n",
      "11                       cine hoyts rosario   1500\n",
      "12                          rosario garages   1350\n",
      "13                 cuando llega rosario bus    700\n",
      "14                        cinepolis rosario    600\n",
      "15  servicio meteorológico nacional rosario    450\n",
      "16                          acuario rosario    400\n",
      "17                   clima rosario por hora    350\n",
      "18                       pronóstico rosario    300\n",
      "19                           rosario alerta    250\n",
      "20                          rosario lufrano    250\n",
      "21                              olx rosario    200\n",
      "22                        dolar hoy rosario    200\n",
      "23         pronóstico del tiempo en rosario    190\n",
      "24                      rosario central hoy    180}, 'Tucuman': {'top':                          query  value\n",
      "0             quiniela tucuman    100\n",
      "1          quiniela de tucuman     91\n",
      "2               gaceta tucuman     35\n",
      "3            la gaceta tucuman     34\n",
      "4         la gaceta de tucuman     25\n",
      "5            gaceta de tucuman     25\n",
      "6          la quiniela tucuman     20\n",
      "7             atletico tucuman     20\n",
      "8       la quiniela de tucuman     20\n",
      "9        san miguel de tucuman     16\n",
      "10               banco tucuman     15\n",
      "11              tiempo tucuman     14\n",
      "12               clima tucuman     13\n",
      "13            contexto tucuman     12\n",
      "14                    contexto     11\n",
      "15        quiniela tucuman hoy     10\n",
      "16       san martin de tucuman     10\n",
      "17     quiniela de tucuman hoy     10\n",
      "18  quiniela de tucuman de hoy     10\n",
      "19           tiempo en tucuman      9\n",
      "20           banco del tucuman      9\n",
      "21                 olx tucuman      8\n",
      "22  resultado quiniela tucuman      8\n",
      "23     sorteo quiniela tucuman      8\n",
      "24          pronostico tucuman      7, 'rising':                                                 query  value\n",
      "0           ultimo resultado d la quiniela de tucuman  25600\n",
      "1                   quiniela de tucuman ultimo sorteo  19650\n",
      "2   quiniela de tucuman ultimo sorteo de hoy caja ...  14100\n",
      "3                              boleta digital tucuman  12550\n",
      "4   ultimo resultado d la quiniela de tucuman noct...  10350\n",
      "5                       padron electoral 2019 tucuman   7350\n",
      "6                    boleta de sueldo digital tucuman   2650\n",
      "7             ultimo sorteo de la quiniela de tucuman   2000\n",
      "8                            boca vs atletico tucuman   1050\n",
      "9                              clima tucuman por hora    750\n",
      "10                    contexto tucuman ultimo momento    650\n",
      "11                              boca atletico tucuman    600\n",
      "12                          river vs atletico tucuman    600\n",
      "13                                 quiniela d tucuman    500\n",
      "14      quiniela matutina de tucuman resultado de hoy    500\n",
      "15                quiniela de tucuman matutina de hoy    400\n",
      "16                               atletico tucuman hoy    400\n",
      "17                                    tiendeo tucuman    350\n",
      "18                      sorteo de quiniela de tucuman    300\n",
      "19                            sorteo quiniela tucuman    300\n",
      "20                         sorteo quiniela de tucuman    300\n",
      "21                           clima concepcion tucuman    300\n",
      "22                         quiniela de tucuman de hoy    250\n",
      "23                            quiniela de tucuman hoy    250\n",
      "24                                  la gaceta tucumán    250}}\n"
     ]
    }
   ],
   "source": [
    "print(related_queries_dict)"
   ]
  },
  {
   "cell_type": "code",
   "execution_count": null,
   "metadata": {},
   "outputs": [],
   "source": []
  }
 ],
 "metadata": {
  "kernelspec": {
   "display_name": "Python 3",
   "language": "python",
   "name": "python3"
  },
  "language_info": {
   "codemirror_mode": {
    "name": "ipython",
    "version": 3
   },
   "file_extension": ".py",
   "mimetype": "text/x-python",
   "name": "python",
   "nbconvert_exporter": "python",
   "pygments_lexer": "ipython3",
   "version": "3.7.4"
  }
 },
 "nbformat": 4,
 "nbformat_minor": 2
}
